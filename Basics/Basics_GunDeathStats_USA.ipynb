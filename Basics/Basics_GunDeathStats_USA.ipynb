{
 "cells": [
  {
   "cell_type": "markdown",
   "metadata": {
    "collapsed": true
   },
   "source": [
    "# US Gun Deaths Guided Project Solutions\n",
    "This is a guided project to analyze the data for gun deaths in USA from 2012 to 2014"
   ]
  },
  {
   "cell_type": "code",
   "execution_count": 1,
   "metadata": {
    "collapsed": false
   },
   "outputs": [
    {
     "name": "stdout",
     "output_type": "stream",
     "text": [
      "[['', 'year', 'month', 'intent', 'police', 'sex', 'age', 'race', 'hispanic', 'place', 'education'], ['1', '2012', '01', 'Suicide', '0', 'M', '34', 'Asian/Pacific Islander', '100', 'Home', '4'], ['2', '2012', '01', 'Suicide', '0', 'F', '21', 'White', '100', 'Street', '3'], ['3', '2012', '01', 'Suicide', '0', 'M', '60', 'White', '100', 'Other specified', '4'], ['4', '2012', '02', 'Suicide', '0', 'M', '64', 'White', '100', 'Home', '4']]\n"
     ]
    }
   ],
   "source": [
    "import csv\n",
    "import datetime\n",
    "\n",
    "fileHandle = open(\"guns.csv\",\"r\")\n",
    "data = list(csv.reader(fileHandle))\n",
    "print(data[0:5])"
   ]
  },
  {
   "cell_type": "code",
   "execution_count": 2,
   "metadata": {
    "collapsed": false
   },
   "outputs": [
    {
     "name": "stdout",
     "output_type": "stream",
     "text": [
      "[['1', '2012', '01', 'Suicide', '0', 'M', '34', 'Asian/Pacific Islander', '100', 'Home', '4'], ['2', '2012', '01', 'Suicide', '0', 'F', '21', 'White', '100', 'Street', '3'], ['3', '2012', '01', 'Suicide', '0', 'M', '60', 'White', '100', 'Other specified', '4'], ['4', '2012', '02', 'Suicide', '0', 'M', '64', 'White', '100', 'Home', '4'], ['5', '2012', '02', 'Suicide', '0', 'M', '31', 'White', '100', 'Other specified', '2']]\n"
     ]
    }
   ],
   "source": [
    "headers = data[0]\n",
    "data = data[1:]\n",
    "#print(headers)\n",
    "print(data[:5])"
   ]
  },
  {
   "cell_type": "markdown",
   "metadata": {},
   "source": [
    "# Gun Deaths by Year"
   ]
  },
  {
   "cell_type": "code",
   "execution_count": 3,
   "metadata": {
    "collapsed": false
   },
   "outputs": [
    {
     "name": "stdout",
     "output_type": "stream",
     "text": [
      "{'2014': 33599, '2013': 33636, '2012': 33563}\n"
     ]
    }
   ],
   "source": [
    "years = [inc[1] for inc in data]\n",
    "year_counts = {}\n",
    "for y in years:\n",
    "    if y in year_counts:\n",
    "        year_counts[y] += 1\n",
    "    else:\n",
    "        year_counts[y] = 1\n",
    "\n",
    "print(year_counts)"
   ]
  },
  {
   "cell_type": "markdown",
   "metadata": {},
   "source": [
    "# Gun Deaths by Month and Year"
   ]
  },
  {
   "cell_type": "code",
   "execution_count": 4,
   "metadata": {
    "collapsed": false
   },
   "outputs": [
    {
     "name": "stdout",
     "output_type": "stream",
     "text": [
      "{'14 12': 2857, '12 04': 2795, '13 10': 2808, '12 01': 2758, '12 10': 2733, '12 06': 2826, '14 02': 2361, '12 03': 2743, '12 02': 2357, '12 08': 2954, '13 05': 2806, '13 01': 2864, '14 03': 2684, '13 11': 2758, '13 12': 2765, '14 10': 2865, '12 09': 2852, '12 05': 2999, '12 07': 3026, '14 01': 2651, '13 08': 2859, '12 11': 2729, '14 06': 2931, '13 04': 2798, '14 11': 2756, '14 08': 2970, '13 09': 2742, '14 07': 2884, '13 07': 3079, '14 04': 2862, '13 02': 2375, '13 06': 2920, '13 03': 2862, '12 12': 2791, '14 09': 2914, '14 05': 2864}\n"
     ]
    }
   ],
   "source": [
    "date_counts = {}\n",
    "for y in data:\n",
    "    #print(int(y[1]),int(y[2]))\n",
    "    date = datetime.datetime(int(y[1]),int(y[2]),1).strftime(\"%y %m\")\n",
    "    if date in date_counts:\n",
    "        date_counts[date] += 1\n",
    "    else:\n",
    "        date_counts[date] = 1\n",
    "          \n",
    "print(date_counts)"
   ]
  },
  {
   "cell_type": "markdown",
   "metadata": {
    "collapsed": true
   },
   "source": [
    "# Gun Death by Sex and Race"
   ]
  },
  {
   "cell_type": "code",
   "execution_count": 5,
   "metadata": {
    "collapsed": false
   },
   "outputs": [
    {
     "name": "stdout",
     "output_type": "stream",
     "text": [
      "{'F': 14449, 'M': 86349}\n"
     ]
    }
   ],
   "source": [
    "sex_counts = {'M': 0, 'F': 0}\n",
    "for y in data:\n",
    "    \n",
    "    if y[5] is 'M':\n",
    "        sex_counts['M'] += 1\n",
    "    elif y[5] is 'F':\n",
    "        sex_counts['F'] += 1\n",
    "\n",
    "print(sex_counts)\n",
    "    "
   ]
  },
  {
   "cell_type": "code",
   "execution_count": 6,
   "metadata": {
    "collapsed": false
   },
   "outputs": [
    {
     "name": "stdout",
     "output_type": "stream",
     "text": [
      "{'White': 66237, 'Hispanic': 9022, 'Asian/Pacific Islander': 1326, 'Black': 23296, 'Native American/Native Alaskan': 917}\n"
     ]
    }
   ],
   "source": [
    "race_counts = {}\n",
    "\n",
    "for y in data:\n",
    "    if y[7] in race_counts.keys():\n",
    "        race_counts[y[7]] += 1\n",
    "    else:\n",
    "        race_counts[y[7]] = 1\n",
    "\n",
    "print(race_counts)\n",
    "    "
   ]
  },
  {
   "cell_type": "markdown",
   "metadata": {},
   "source": [
    "# Findings so far\n",
    "Gun deaths seem to effect women more than men. For Race by absolute numbers we can say that Black have highest numer of deaths but if can have the stats as a proportion we would be able to intrepret data better."
   ]
  },
  {
   "cell_type": "code",
   "execution_count": 7,
   "metadata": {
    "collapsed": false
   },
   "outputs": [
    {
     "name": "stdout",
     "output_type": "stream",
     "text": [
      "[['Id', 'Year', 'Id', 'Sex', 'Id', 'Hispanic Origin', 'Id', 'Id2', 'Geography', 'Total', 'Race Alone - White', 'Race Alone - Hispanic', 'Race Alone - Black or African American', 'Race Alone - American Indian and Alaska Native', 'Race Alone - Asian', 'Race Alone - Native Hawaiian and Other Pacific Islander', 'Two or More Races'], ['cen42010', 'April 1, 2010 Census', 'totsex', 'Both Sexes', 'tothisp', 'Total', '0100000US', '', 'United States', '308745538', '197318956', '44618105', '40250635', '3739506', '15159516', '674625', '6984195']]\n"
     ]
    }
   ],
   "source": [
    "f = open(\"census.csv\",\"r\")\n",
    "\n",
    "csvreader = csv.reader(f)\n",
    "census_data = list(csvreader)\n",
    "\n",
    "print(census_data)"
   ]
  },
  {
   "cell_type": "code",
   "execution_count": 16,
   "metadata": {
    "collapsed": false
   },
   "outputs": [
    {
     "name": "stdout",
     "output_type": "stream",
     "text": [
      "{'White': 33.56849303419181, 'Native American/Native Alaskan': 24.521955573811088, 'Asian/Pacific Islander': 8.374309664161762, 'Black': 57.877347773519595, 'Hispanic': 20.220491210910907}\n"
     ]
    }
   ],
   "source": [
    "pop_by_race = {'Asian/Pacific Islander': 15159516 + 674625, \n",
    "                      'Black': 40250635, \n",
    "                      'Hispanic': 44618105,\n",
    "                      'Native American/Native Alaskan': 3739506,\n",
    "                      'White': 197318956}\n",
    "\n",
    "\n",
    "for race,count in race_counts.items():\n",
    "    race_counts_proportion[race] = count*100000/pop_by_race[race]\n",
    "\n",
    "print(race_counts_proportion)"
   ]
  },
  {
   "cell_type": "markdown",
   "metadata": {},
   "source": [
    "# Findings\n",
    "\n",
    "Proportion of gun deaths Blacks in comparision to others is hifher."
   ]
  },
  {
   "cell_type": "code",
   "execution_count": null,
   "metadata": {
    "collapsed": true
   },
   "outputs": [],
   "source": []
  }
 ],
 "metadata": {
  "kernelspec": {
   "display_name": "Python 3",
   "language": "python",
   "name": "python3"
  },
  "language_info": {
   "codemirror_mode": {
    "name": "ipython",
    "version": 3
   },
   "file_extension": ".py",
   "mimetype": "text/x-python",
   "name": "python",
   "nbconvert_exporter": "python",
   "pygments_lexer": "ipython3",
   "version": "3.4.3"
  }
 },
 "nbformat": 4,
 "nbformat_minor": 0
}
